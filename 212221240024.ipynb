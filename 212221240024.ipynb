{
  "nbformat": 4,
  "nbformat_minor": 0,
  "metadata": {
    "colab": {
      "provenance": []
    },
    "kernelspec": {
      "name": "python3",
      "display_name": "Python 3"
    },
    "language_info": {
      "name": "python"
    }
  },
  "cells": [
    {
      "cell_type": "code",
      "execution_count": null,
      "metadata": {
        "colab": {
          "base_uri": "https://localhost:8080/"
        },
        "id": "1IUmvOoVw-Gj",
        "outputId": "197c6f11-4d58-4054-90bf-54e6463908b8"
      },
      "outputs": [
        {
          "output_type": "stream",
          "name": "stdout",
          "text": [
            "Collecting gym-walk\n",
            "  Cloning https://github.com/mimoralea/gym-walk to /tmp/pip-install-6blf6phu/gym-walk_dcf98728629e46478c9e7f5a40f7bfdc\n",
            "  Running command git clone --filter=blob:none --quiet https://github.com/mimoralea/gym-walk /tmp/pip-install-6blf6phu/gym-walk_dcf98728629e46478c9e7f5a40f7bfdc\n",
            "  Resolved https://github.com/mimoralea/gym-walk to commit 5999016267d6de2f5a63307fb00dfd63de319ac1\n",
            "  Preparing metadata (setup.py) ... \u001b[?25l\u001b[?25hdone\n",
            "Requirement already satisfied: gym in /usr/local/lib/python3.10/dist-packages (from gym-walk) (0.25.2)\n",
            "Requirement already satisfied: numpy>=1.18.0 in /usr/local/lib/python3.10/dist-packages (from gym->gym-walk) (1.25.2)\n",
            "Requirement already satisfied: cloudpickle>=1.2.0 in /usr/local/lib/python3.10/dist-packages (from gym->gym-walk) (2.2.1)\n",
            "Requirement already satisfied: gym-notices>=0.0.4 in /usr/local/lib/python3.10/dist-packages (from gym->gym-walk) (0.0.8)\n",
            "Building wheels for collected packages: gym-walk\n",
            "  Building wheel for gym-walk (setup.py) ... \u001b[?25l\u001b[?25hdone\n",
            "  Created wheel for gym-walk: filename=gym_walk-0.0.2-py3-none-any.whl size=4054 sha256=2aa066b4a7633c658600c7055f2538624d5ca6d0cb6a6ba8e69f82b40c57cc2d\n",
            "  Stored in directory: /tmp/pip-ephem-wheel-cache-pkulzzwt/wheels/24/fe/c4/0cbc7511d29265bad7e28a09311db3f87f0cafba74af54d530\n",
            "Successfully built gym-walk\n",
            "Installing collected packages: gym-walk\n",
            "Successfully installed gym-walk-0.0.2\n"
          ]
        }
      ],
      "source": [
        "pip install git+https://github.com/mimoralea/gym-walk#egg=gym-walk"
      ]
    },
    {
      "cell_type": "code",
      "source": [
        "import gym\n",
        "import gym_walk"
      ],
      "metadata": {
        "colab": {
          "base_uri": "https://localhost:8080/"
        },
        "id": "F75YNKKYxKpC",
        "outputId": "3cbe6a04-fe7d-47c6-eab9-81f2edd8d532"
      },
      "execution_count": null,
      "outputs": [
        {
          "output_type": "stream",
          "name": "stderr",
          "text": [
            "/usr/local/lib/python3.10/dist-packages/ipykernel/ipkernel.py:283: DeprecationWarning: `should_run_async` will not call `transform_cell` automatically in the future. Please pass the result to `transformed_cell` argument and any exception that happen during thetransform in `preprocessing_exc_tuple` in IPython 7.17 and above.\n",
            "  and should_run_async(code)\n"
          ]
        }
      ]
    },
    {
      "cell_type": "code",
      "source": [
        "\n",
        "# 1 to increase the temperature, 2 to decrease temperature , 0 to maintain the temperature.\n",
        "temperature ={\n",
        "    0:{\n",
        "        0:[(0.7,0,0.0,False),(0.2,1,1.0,True),(0.1,2,0,True)],\n",
        "        1:[(0.7,1,1.0,True),(0.2,2,0.0,True),(0.1,0,0,False)],\n",
        "        2:[(0.7,2,0.0,True),(0.2,1,1.0,True),(0.1,0,0,False)]\n",
        "\n",
        "    },\n",
        "    1:{\n",
        "        0:[(0.7,1,1.1,True),(0.2,1,1.0,True),(0.1,0,0.0,False)],\n",
        "        1:[(0.7,1,1,1,True),(0.2,0,0.0,False),(0.1,1,1.0,True)],\n",
        "        2:[(0.7,0,0.0,False),(0.2,1,1.0,True),(0.1,1,1.0,True)]\n",
        "    },\n",
        "    2:{\n",
        "        0:[(0.7,2,0.0,True),(0.2,0,0.0,False),(0.1,2,0.0,True)],\n",
        "        1:[(0.7,0,0.0,False),(0.2,2,0.0,True),(0.1,2,0.0,True)],\n",
        "        2:[(0.7,2,0.0,True),(0.2,0,0.0,False),(0.1,2,0.0,False)]\n",
        "\n",
        "    }\n",
        "\n",
        "}"
      ],
      "metadata": {
        "id": "59CEFABKxVmC"
      },
      "execution_count": 2,
      "outputs": []
    },
    {
      "cell_type": "code",
      "source": [
        "temperature"
      ],
      "metadata": {
        "colab": {
          "base_uri": "https://localhost:8080/"
        },
        "id": "u2plO26NaliH",
        "outputId": "99d4be93-6d71-4c9f-e264-5f94aca8c577"
      },
      "execution_count": 3,
      "outputs": [
        {
          "output_type": "execute_result",
          "data": {
            "text/plain": [
              "{0: {0: [(0.7, 0, 0.0, False), (0.2, 1, 1.0, True), (0.1, 2, 0, True)],\n",
              "  1: [(0.7, 1, 1.0, True), (0.2, 2, 0.0, True), (0.1, 0, 0, False)],\n",
              "  2: [(0.7, 2, 0.0, True), (0.2, 1, 1.0, True), (0.1, 0, 0, False)]},\n",
              " 1: {0: [(0.7, 1, 1.1, True), (0.2, 1, 1.0, True), (0.1, 0, 0.0, False)],\n",
              "  1: [(0.7, 1, 1, 1, True), (0.2, 0, 0.0, False), (0.1, 1, 1.0, True)],\n",
              "  2: [(0.7, 0, 0.0, False), (0.2, 1, 1.0, True), (0.1, 1, 1.0, True)]},\n",
              " 2: {0: [(0.7, 2, 0.0, True), (0.2, 0, 0.0, False), (0.1, 2, 0.0, True)],\n",
              "  1: [(0.7, 0, 0.0, False), (0.2, 2, 0.0, True), (0.1, 2, 0.0, True)],\n",
              "  2: [(0.7, 2, 0.0, True), (0.2, 0, 0.0, False), (0.1, 2, 0.0, False)]}}"
            ]
          },
          "metadata": {},
          "execution_count": 3
        }
      ]
    },
    {
      "cell_type": "code",
      "source": [],
      "metadata": {
        "id": "OqDXeiz5aoE7"
      },
      "execution_count": null,
      "outputs": []
    }
  ]
}